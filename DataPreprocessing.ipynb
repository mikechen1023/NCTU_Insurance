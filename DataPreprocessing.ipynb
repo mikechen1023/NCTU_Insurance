{
 "cells": [
  {
   "cell_type": "code",
   "execution_count": null,
   "metadata": {},
   "outputs": [],
   "source": [
    "import pandas as pd\n",
    "import numpy as np\n",
    "import seaborn as sns\n",
    "import matplotlib.pyplot as plt\n",
    "\n",
    "%matplotlib inline"
   ]
  },
  {
   "cell_type": "code",
   "execution_count": null,
   "metadata": {},
   "outputs": [],
   "source": [
    "# display all columns\n",
    "pd.set_option('display.max_columns', None)"
   ]
  },
  {
   "cell_type": "code",
   "execution_count": null,
   "metadata": {},
   "outputs": [],
   "source": [
    "data = pd.read_csv(\"./data/2018-2020_add_sales_info.csv\", encoding='utf-8')"
   ]
  },
  {
   "cell_type": "code",
   "execution_count": null,
   "metadata": {},
   "outputs": [],
   "source": [
    "data"
   ]
  },
  {
   "cell_type": "code",
   "execution_count": null,
   "metadata": {},
   "outputs": [],
   "source": [
    "\"\"\"\n",
    "    加入保額、保費的分群資訊 (配合客戶資料, 越大金額越小)\n",
    "    5 : 1w 以下\n",
    "    4 : 1w ~ 10w\n",
    "    3 : 10w ~ 100w\n",
    "    2 : 100w ~ 500w\n",
    "    1 : 500w 以上\n",
    "\"\"\"\n",
    "\n",
    "def fee_range_info(data):\n",
    "    fee = data['保費']\n",
    "    if fee<10001: return 5\n",
    "    elif fee>10000 and fee<100001: return 4\n",
    "    elif fee>100000 and fee<1000001: return 3\n",
    "    elif fee>1000000 and fee<5000001: return 2\n",
    "    else: return 1\n",
    "    \n",
    "def count_range_info(data):\n",
    "    fee = data['保額']\n",
    "    if fee<10001: return 5\n",
    "    elif fee>10000 and fee<100001: return 4\n",
    "    elif fee>100000 and fee<1000001: return 3\n",
    "    elif fee>1000000 and fee<5000001: return 2\n",
    "    else: return 1\n",
    "    \n",
    "data.loc[:, '保費區間'] = data.apply(fee_range_info, axis=1)\n",
    "data.loc[:, '保額區間'] = data.apply(count_range_info, axis=1)"
   ]
  },
  {
   "cell_type": "code",
   "execution_count": null,
   "metadata": {},
   "outputs": [],
   "source": [
    "\"\"\"\n",
    "    幣別 ('TWD': 0, 'USD': 1)\n",
    "\"\"\"\n",
    "df_dollartype = pd.get_dummies(data['幣別'])\n",
    "df_dollartype = df_dollartype.drop('USD', 1)\n",
    "\n",
    "data = data.drop('幣別', 1)\n",
    "data = pd.concat([data, df_dollartype], axis=1)"
   ]
  },
  {
   "cell_type": "code",
   "execution_count": null,
   "metadata": {},
   "outputs": [],
   "source": [
    "\"\"\"\n",
    "    Data Label ('Y':1, 'N':0)\n",
    "\"\"\"\n",
    "data['是否已受理'] = data['是否已受理'].map({'Y':1, 'N':0})"
   ]
  },
  {
   "cell_type": "code",
   "execution_count": null,
   "metadata": {},
   "outputs": [],
   "source": [
    "# 看 timespan 的數值分布\n",
    "\n",
    "timespan = data['Timespan']\n",
    "plt.hist(timespan, bins=[0, 1, 2, 3, 4, 5, 6, 7, 30], color='lightblue')"
   ]
  },
  {
   "cell_type": "code",
   "execution_count": null,
   "metadata": {},
   "outputs": [],
   "source": [
    "\"\"\"\n",
    "Ver. 1:\n",
    "    保費, 保額直接做 normalize\n",
    "\"\"\"\n",
    "# data_fee = data['保費']\n",
    "# fee_min = data['保費'].min()\n",
    "# fee_max = data['保費'].max()\n",
    "# data['保費'] = (data['保費']-fee_min)/(fee_max-fee_min)\n",
    "\n",
    "# data_fee = data['保額']\n",
    "# fee_min = data['保額'].min()\n",
    "# fee_max = data['保額'].max()\n",
    "# data['保額'] = (data['保額']-fee_min)/(fee_max-fee_min)"
   ]
  },
  {
   "cell_type": "code",
   "execution_count": null,
   "metadata": {},
   "outputs": [],
   "source": [
    "\"\"\"\n",
    "Ver. 3:\n",
    "    保費、保額先做分群再取 z-score\n",
    "\n",
    "各個區間\n",
    "a : 1w 以下\n",
    "b : 1w ~ 10w\n",
    "c : 10w ~ 100w\n",
    "d : 100w ~ 500w\n",
    "e : 500w 以上\n",
    "\"\"\"\n",
    "\n",
    "# 保費\n",
    "a_fee = data[data['保費']<=10000]\n",
    "b_fee = data[(data['保費']>10000) & (data['保費']<=100000)]\n",
    "c_fee = data[(data['保費']>100000) & (data['保費']<=1000000)]\n",
    "d_fee = data[(data['保費']>1000000) & (data['保費']<=5000000)]\n",
    "e_fee = data[data['保費']>5000000]\n",
    "\n",
    "a_fee['保費'] = (a_fee['保費'] - 2664.5) / 2217.5\n",
    "b_fee['保費'] = (b_fee['保費'] - 32781.7) / 22002.6\n",
    "c_fee['保費'] = (c_fee['保費'] - 315331.1) / 228632.5\n",
    "d_fee['保費'] = (d_fee['保費'] - 1712876.7) / 881441.3\n",
    "e_fee['保費'] = (e_fee['保費'] - 14955516.5) / 20320226.8\n",
    "\n",
    "data = pd.concat([a_fee, b_fee, c_fee, d_fee, e_fee])\n",
    "\n",
    "\n",
    "# 保額\n",
    "a_count = data[data['保額']<=10000]\n",
    "b_count = data[(data['保額']>10000) & (data['保額']<=100000)]\n",
    "c_count = data[(data['保額']>100000) & (data['保額']<=1000000)]\n",
    "d_count = data[(data['保額']>1000000) & (data['保額']<=5000000)]\n",
    "e_count = data[data['保額']>5000000]\n",
    "\n",
    "a_count['保額'] = (a_count['保額'] - 2673.8) / 2554.8\n",
    "b_count['保額'] = (b_count['保額'] - 43313.8) / 22360.3\n",
    "c_count['保額'] = (c_count['保額'] - 598427.3) / 315196.4\n",
    "d_count['保額'] = (d_count['保額'] - 1857489.3) / 718524.4\n",
    "e_count['保額'] = (e_count['保額'] - 11439169.0) / 9792245.2\n",
    "\n",
    "data = pd.concat([a_count, b_count, c_count, d_count, e_count])\n",
    "\n",
    "\n",
    "# Reset index\n",
    "data = data.reset_index(inplace=False, drop=False)\n",
    "\n",
    "# Remove unnamed columns\n",
    "data = data.drop(['Unnamed: 0', 'index'], axis=1)"
   ]
  },
  {
   "cell_type": "code",
   "execution_count": null,
   "metadata": {},
   "outputs": [],
   "source": [
    "data"
   ]
  },
  {
   "cell_type": "code",
   "execution_count": null,
   "metadata": {},
   "outputs": [],
   "source": [
    "\"\"\"\n",
    "    整理 \"商品分類_三標\":\n",
    "\n",
    "\"\"\"\n",
    "type_dict = {'A&H(健康意外險)':'A&H', 'SP(躉繳)':'SP', '躉繳':'SP', 'RP金流(壽險期繳金流型)':'RP1', '終身壽險':'RP1', 'RP保障(壽險期繳保障型)':'RP2'}\n",
    "\n",
    "data['商品分類_三標'] = data['商品分類_三標'].replace(type_dict)\n",
    "# df_category = pd.get_dummies(data['商品分類_三標'])\n",
    "# data = data.drop('商品分類_三標', 1)\n",
    "# data = pd.concat([data,df_category], axis=1)"
   ]
  },
  {
   "cell_type": "code",
   "execution_count": null,
   "metadata": {},
   "outputs": [],
   "source": [
    "data"
   ]
  },
  {
   "cell_type": "code",
   "execution_count": null,
   "metadata": {},
   "outputs": [],
   "source": [
    "# # 商品分類_保障項目\n",
    "# df_type = pd.get_dummies(data['商品分類_保障項目'])\n",
    "# data = data.drop('商品分類_保障項目', 1)\n",
    "# data = pd.concat([data,df_type], axis=1)"
   ]
  },
  {
   "cell_type": "code",
   "execution_count": null,
   "metadata": {},
   "outputs": [],
   "source": [
    "\"\"\"\n",
    "    Timespan (去除 NaN 和 0,1 )\n",
    "    \n",
    "    ps. 這格要在Z-score後面!!\n",
    "\"\"\"\n",
    "\n",
    "zero_or_one_rows = [i for i,x in enumerate(data['Timespan']) if data['Timespan'][i]==0 or data['Timespan'][i]==1]\n",
    "\n",
    "data = data.fillna('null')\n",
    "nan_rows = [i for i,x in enumerate(data['Timespan']) if data['Timespan'][i]=='null']\n",
    "\n",
    "data = data.drop(zero_or_one_rows)\n",
    "data = data.drop(nan_rows)"
   ]
  },
  {
   "cell_type": "code",
   "execution_count": null,
   "metadata": {
    "scrolled": true
   },
   "outputs": [],
   "source": [
    "\"\"\"\n",
    "    去除多餘欄位\n",
    "\"\"\"\n",
    "\n",
    "data = data.drop(['資料月份', '建議書_最後異動日', '商品名稱', '是否完成E受理', 'e受理序號dummy'], axis=1)"
   ]
  },
  {
   "cell_type": "code",
   "execution_count": null,
   "metadata": {},
   "outputs": [],
   "source": [
    "data"
   ]
  },
  {
   "cell_type": "code",
   "execution_count": null,
   "metadata": {
    "scrolled": true
   },
   "outputs": [],
   "source": [
    "\"\"\"\n",
    "    將資料分成 新客戶、舊客戶\n",
    "\"\"\"\n",
    "\n",
    "data_old = data[(data['財富指標']!='null') & (data['客戶忠誠度']!='null') & (data['客戶分群(NEW)']!='null')]\n",
    "data_new = data[(data['財富指標']=='null') & (data['客戶忠誠度']=='null') & (data['客戶分群(NEW)']=='null')]"
   ]
  },
  {
   "cell_type": "code",
   "execution_count": null,
   "metadata": {},
   "outputs": [],
   "source": [
    "print('all: ',len(data))\n",
    "print('old: ',len(data_old))\n",
    "print('new: ',len(data_new))"
   ]
  },
  {
   "cell_type": "code",
   "execution_count": null,
   "metadata": {},
   "outputs": [],
   "source": [
    "\"\"\"\n",
    "    新舊客戶一起做訓練\n",
    "\"\"\"\n",
    "\n",
    "# data.to_csv('./data/preprocessing_v6_all.csv')"
   ]
  },
  {
   "cell_type": "code",
   "execution_count": null,
   "metadata": {},
   "outputs": [],
   "source": [
    "\"\"\"\n",
    "Ver.4\n",
    "    新舊客戶分開訓練\n",
    "\"\"\"\n",
    "\n",
    "# data_new.to_csv('./data/preprocessing_v6_new.csv')\n",
    "# data_old.to_csv('./data/preprocessing_v6_old.csv')"
   ]
  },
  {
   "cell_type": "code",
   "execution_count": null,
   "metadata": {},
   "outputs": [],
   "source": [
    "\"\"\"\n",
    "Ver.4、Ver.5 \"加入業務員成交率\" 所使用的資料\n",
    "    \n",
    "\"\"\"\n",
    "# data_old = data_old.drop(['index', 'Column1'], axis=1)\n",
    "# data_old.to_csv('./data/2018-2020_old_add_sales_info.csv')"
   ]
  },
  {
   "cell_type": "code",
   "execution_count": null,
   "metadata": {},
   "outputs": [],
   "source": [
    "data_old"
   ]
  },
  {
   "cell_type": "code",
   "execution_count": null,
   "metadata": {},
   "outputs": [],
   "source": [
    "data_new"
   ]
  },
  {
   "cell_type": "code",
   "execution_count": null,
   "metadata": {},
   "outputs": [],
   "source": []
  }
 ],
 "metadata": {
  "kernelspec": {
   "display_name": "Python 3",
   "language": "python",
   "name": "python3"
  },
  "language_info": {
   "codemirror_mode": {
    "name": "ipython",
    "version": 3
   },
   "file_extension": ".py",
   "mimetype": "text/x-python",
   "name": "python",
   "nbconvert_exporter": "python",
   "pygments_lexer": "ipython3",
   "version": "3.8.5"
  }
 },
 "nbformat": 4,
 "nbformat_minor": 4
}
