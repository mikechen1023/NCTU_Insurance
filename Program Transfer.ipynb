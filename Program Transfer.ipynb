{
 "cells": [
  {
   "cell_type": "code",
   "execution_count": 1,
   "metadata": {},
   "outputs": [],
   "source": [
    "# Target 預測會不會購買 未來第幾天的銷售量 利用MTL"
   ]
  },
  {
   "cell_type": "code",
   "execution_count": 1,
   "metadata": {},
   "outputs": [],
   "source": [
    "import pandas as pd\n",
    "import numpy as np\n",
    "import matplotlib.pyplot as plt"
   ]
  },
  {
   "cell_type": "code",
   "execution_count": 27,
   "metadata": {},
   "outputs": [
    {
     "name": "stderr",
     "output_type": "stream",
     "text": [
      "C:\\ProgramData\\Anaconda3\\lib\\site-packages\\IPython\\core\\interactiveshell.py:3146: DtypeWarning: Columns (5) have mixed types.Specify dtype option on import or set low_memory=False.\n",
      "  has_raised = await self.run_ast_nodes(code_ast.body, cell_name,\n",
      "C:\\ProgramData\\Anaconda3\\lib\\site-packages\\IPython\\core\\interactiveshell.py:3146: DtypeWarning: Columns (17) have mixed types.Specify dtype option on import or set low_memory=False.\n",
      "  has_raised = await self.run_ast_nodes(code_ast.body, cell_name,\n"
     ]
    }
   ],
   "source": [
    "address = './/---//---//' # 設定地址\n",
    "A = pd.read_csv('.//南山//新資料1.csv', encoding = 'big5')\n",
    "B = pd.read_csv('.//南山//新資料2.csv', encoding = 'big5')\n",
    "C = pd.read_csv(\".//南山//2018-2020資料合併.csv\")\n",
    "# 改文字title\n",
    "C.columns = ['U','MONTH', 'AGENT_DUMMY','SUGGEST_DATE','SUGGEST_LAST_DATE','BP_DUMMY','NAME','AMOUNT','FORTUNELV','LOYALTYLV','CLUSTER','SUGGEST_DUMMY','AGE','TYPE','CATEGORY','E_ACCEPT','ACCEPT','ACCEPT_DUMMY','CURRENCY','FEE','Timespan']\n",
    "# 選擇有用的欄位\n",
    "T = C['Timespan']\n",
    "C = C.iloc[:,[1,2,11,3,4,12,5,6, 13,14,7,18,19,16, 15, 8, 9, 10, 20]]"
   ]
  },
  {
   "cell_type": "code",
   "execution_count": 28,
   "metadata": {},
   "outputs": [
    {
     "name": "stdout",
     "output_type": "stream",
     "text": [
      "最後給予的資料之shape： (332998, 18)\n",
      "最後給予的資料之shape： (318553, 18)\n",
      "原先且已處理的資料之shape： (1117903, 19)\n"
     ]
    }
   ],
   "source": [
    "print('最後給予的資料之shape：', A.shape)\n",
    "print(\"最後給予的資料之shape：\", B.shape)\n",
    "print(\"原先且已處理的資料之shape：\", C.shape) # 多一個column是為了之後要做成交天數而先宣告的一個column"
   ]
  },
  {
   "cell_type": "code",
   "execution_count": 33,
   "metadata": {},
   "outputs": [
    {
     "name": "stdout",
     "output_type": "stream",
     "text": [
      "資料合併後的shape： (1769454, 18)\n"
     ]
    }
   ],
   "source": [
    "# 將資料\n",
    "f = pd.concat([A,B,C], axis = 0).iloc[:,:-1].reset_index(drop = True); print('資料合併後的shape：',f.shape)\n",
    "# 把資料統一（處理掉資料庫本身的資料誤存）\n",
    "f = f[f['AGE'] != ' ']\n",
    "f = f[f['AMOUNT'] != '   ']\n",
    "f = f[f['FEE'] != ' -   ']"
   ]
  },
  {
   "cell_type": "code",
   "execution_count": 34,
   "metadata": {},
   "outputs": [
    {
     "name": "stdout",
     "output_type": "stream",
     "text": [
      "645310 2019-04-11 17:48:43\n"
     ]
    }
   ],
   "source": [
    "# 建議書建立日的異樣格式處理\n",
    "for i,j in enumerate(f['SUGGEST_DATE']):\n",
    "    if '/' not in j:\n",
    "        print(i,j)\n",
    "        break"
   ]
  },
  {
   "cell_type": "code",
   "execution_count": 35,
   "metadata": {},
   "outputs": [
    {
     "name": "stderr",
     "output_type": "stream",
     "text": [
      "<ipython-input-35-22972b9d4996>:7: SettingWithCopyWarning: \n",
      "A value is trying to be set on a copy of a slice from a DataFrame.\n",
      "Try using .loc[row_indexer,col_indexer] = value instead\n",
      "\n",
      "See the caveats in the documentation: https://pandas.pydata.org/pandas-docs/stable/user_guide/indexing.html#returning-a-view-versus-a-copy\n",
      "  a['SUGGEST_DATE'] = a['SUGGEST_DATE'].apply(lambda x: datetime.strptime(x, \"%Y/%m/%d\"))\n",
      "<ipython-input-35-22972b9d4996>:8: SettingWithCopyWarning: \n",
      "A value is trying to be set on a copy of a slice from a DataFrame.\n",
      "Try using .loc[row_indexer,col_indexer] = value instead\n",
      "\n",
      "See the caveats in the documentation: https://pandas.pydata.org/pandas-docs/stable/user_guide/indexing.html#returning-a-view-versus-a-copy\n",
      "  a['SUGGEST_LAST_DATE'] = a['SUGGEST_LAST_DATE'].apply(lambda x: datetime.strptime(x, \"%Y/%m/%d\"))\n"
     ]
    }
   ],
   "source": [
    "from datetime import datetime\n",
    "import datetime as dt\n",
    "# 資料統一化 與 日期轉換成python可以處理的型態\n",
    "# 645310 是日期格式異樣的始點\n",
    "a = f.iloc[:645310 ]\n",
    "b = f.iloc[645310 :]\n",
    "a['SUGGEST_DATE'] = a['SUGGEST_DATE'].apply(lambda x: datetime.strptime(x, \"%Y/%m/%d\"))\n",
    "a['SUGGEST_LAST_DATE'] = a['SUGGEST_LAST_DATE'].apply(lambda x: datetime.strptime(x, \"%Y/%m/%d\"))"
   ]
  },
  {
   "cell_type": "code",
   "execution_count": 36,
   "metadata": {},
   "outputs": [],
   "source": [
    "# 處理之函式\n",
    "def pd_drop(df, col, threshold):\n",
    "    index = list(b[col]).index(threshold)\n",
    "    return pd.concat([df.iloc[:index], df.iloc[index+1:]], axis = 0).reset_index(drop = True)"
   ]
  },
  {
   "cell_type": "code",
   "execution_count": 37,
   "metadata": {},
   "outputs": [],
   "source": [
    "b = pd_drop(b, 'SUGGEST_LAST_DATE', '43944.836006944446') # 資料錯誤，暫時遮掉不討論（只有這一筆錯誤）\n",
    "# 日期再處理\n",
    "b['SUGGEST_DATE'] = b['SUGGEST_DATE'].apply(lambda x:datetime.strptime(x, \"%Y-%m-%d %H:%M:%S\"))\n",
    "b['SUGGEST_LAST_DATE'] = b['SUGGEST_LAST_DATE'].apply(lambda x:datetime.strptime(x, \"%Y-%m-%d %H:%M:%S\"))\n",
    "a = a.dropna(); b = b.dropna()"
   ]
  },
  {
   "cell_type": "code",
   "execution_count": 38,
   "metadata": {},
   "outputs": [],
   "source": [
    "# 將字串轉換為數值資料\n",
    "a['AGE'] = a['AGE'].apply(lambda x: int(x))\n",
    "a['AMOUNT'] = a['AMOUNT'].apply(lambda x: int(x.split(',')[0] + x.split(',')[1]) if ',' in x else int(x))\n",
    "a['FEE'] = a['FEE'].apply(lambda x: int(x.split(',')[0] + x.split(',')[1]) if ',' in x else int(x))"
   ]
  },
  {
   "cell_type": "code",
   "execution_count": 39,
   "metadata": {},
   "outputs": [],
   "source": [
    "# 處理完資料 → 整合\n",
    "C = pd.concat([C.iloc[:678847,:], C.iloc[678848:,:]], axis = 0).reset_index(drop = True)"
   ]
  },
  {
   "cell_type": "code",
   "execution_count": 40,
   "metadata": {},
   "outputs": [],
   "source": [
    "# \"確定\"轉換日期格式\n",
    "C['SUGGEST_DATE'] = C['SUGGEST_DATE'].apply(lambda x: datetime.strptime(x, \"%Y-%m-%d %H:%M:%S\"))\n",
    "C['SUGGEST_LAST_DATE'] = C['SUGGEST_LAST_DATE'].apply(lambda x: datetime.strptime(x, \"%Y-%m-%d %H:%M:%S\"))"
   ]
  },
  {
   "cell_type": "code",
   "execution_count": 41,
   "metadata": {},
   "outputs": [
    {
     "name": "stdout",
     "output_type": "stream",
     "text": [
      "(401874, 162)\n"
     ]
    }
   ],
   "source": [
    "# Dummy資料處理（生成）\n",
    "f = pd.concat([a,b,C], axis = 0);\n",
    "D1 = f.drop_duplicates(subset=[\"BP_DUMMY\", \"NAME\",\"FEE\",\"SUGGEST_DATE\"], keep='last') \n",
    "D1 = D1.sort_values(\"BP_DUMMY\").reset_index(drop=True)\n",
    "DUM = pd.get_dummies(D1[[\"NAME\",\"TYPE\",\"CATEGORY\"]])\n",
    "DUM=pd.concat([DUM, D1[\"SUGGEST_DUMMY\"]], axis=1)\n",
    "DUM=DUM.groupby(['SUGGEST_DUMMY']).sum()\n",
    "DUM = DUM.rename_axis('SUGGEST_DUMMY').reset_index()\n",
    "print(DUM.shape)\n",
    "f = f.reset_index(drop = True)"
   ]
  },
  {
   "cell_type": "code",
   "execution_count": null,
   "metadata": {},
   "outputs": [],
   "source": [
    "# 承接原始做法\n",
    "# 將 [建議書] 合併起來\n",
    "from tqdm import tqdm\n",
    "from time import sleep\n",
    "LIST=DUM[\"SUGGEST_DUMMY\"]\n",
    "i=0\n",
    "#AGG=D1[0:0]\n",
    "AGG=pd.DataFrame({'MONTH':[],'AGENT_DUMMY':[],'SUGGEST_DUMMY':[],'SUGGEST_DATE':[],'SUGGEST_LAST_DATE':[],'AGE':[],'BP_DUMMY':[],'AMOUNT':[],'CURRENCY':[],'FEE':[],'E_ACCEPT':[],'ACCEPT':[],'ACCEPT_DUMMY':[],'CLUSTER':[], 'DURATION':[]})\n",
    "with tqdm(total=len(LIST)-i) as pbar:\n",
    "    while(i<len(LIST)):\n",
    "        temp=f[f[\"SUGGEST_DUMMY\"]==str(LIST[i])].reset_index(drop=True)\n",
    "        MONTH=temp[\"MONTH\"][0]\n",
    "        AGENT_DUMMY=temp[\"AGENT_DUMMY\"][0]\n",
    "        SUGGEST_DUMMY=temp[\"SUGGEST_DUMMY\"][0]\n",
    "        #SUGGEST_DATE=temp[\"SUGGEST_DATE\"][0]\n",
    "        SUGGEST_DATE = sorted(list(temp[\"SUGGEST_DATE\"]))[0]\n",
    "        #SUGGEST_LAST_DATE=temp[\"SUGGEST_LAST_DATE\"][len(temp[\"SUGGEST_LAST_DATE\"])-1]\n",
    "        SUGGEST_LAST_DATE = sorted(list(temp[\"SUGGEST_LAST_DATE\"]))[len(temp[\"SUGGEST_LAST_DATE\"])-1]\n",
    "        DURATION = temp['Timespan'].iloc[-1]\n",
    "        try:\n",
    "            AGE=temp[\"AGE\"].mean()\n",
    "        except:\n",
    "            AGE=0\n",
    "        BP_DUMMY=temp[\"BP_DUMMY\"][0]\n",
    "        try:\n",
    "            AMOUNT=temp[\"AMOUNT\"].sum()\n",
    "        except:\n",
    "            AMOUNT=0\n",
    "        CURRENCY=temp[\"CURRENCY\"][0]\n",
    "        try:\n",
    "            FEE=temp[\"FEE\"].sum()\n",
    "        except:\n",
    "            FEE=0\n",
    "        E_ACCEPT=temp[\"E_ACCEPT\"][0]\n",
    "        ACCEPT=temp[\"ACCEPT\"][0]\n",
    "        ACCEPT_DUMMY=0\n",
    "        CLUSTER=temp[\"CLUSTER\"][0]\n",
    "        FORTUNELV = temp['FORTUNELV'][0]\n",
    "        LOYALTYLV = temp['LOYALTYLV'][0]\n",
    "        \n",
    "        AGG=AGG.append(pd.DataFrame({'MONTH':[MONTH],'AGENT_DUMMY':[AGENT_DUMMY],'SUGGEST_DUMMY':[SUGGEST_DUMMY],'SUGGEST_DATE':[SUGGEST_DATE],'SUGGEST_LAST_DATE':[SUGGEST_LAST_DATE],'AGE':[AGE],'BP_DUMMY':[BP_DUMMY],'AMOUNT':[AMOUNT],'CURRENCY':[CURRENCY],'FEE':[FEE],'E_ACCEPT':[E_ACCEPT],'ACCEPT':[ACCEPT],'ACCEPT_DUMMY':[ACCEPT_DUMMY],'CLUSTER':[CLUSTER], 'FORTUNELV':[FORTUNELV], 'LOYALTYLV':[LOYALTYLV],'DURATION':[DURATION]}))\n",
    "        i+=1\n",
    "        pbar.update()\n",
    "AGG"
   ]
  },
  {
   "cell_type": "code",
   "execution_count": null,
   "metadata": {},
   "outputs": [],
   "source": [
    "LIST=data[\"BP_DUMMY\"].unique()\n",
    "i=0; #ccc = 0\n",
    "#AGG=D1[0:0]\n",
    "agg=pd.DataFrame(D)\n",
    "with tqdm(total=len(LIST)-i) as pbar:\n",
    "    while(i<len(LIST)):\n",
    "        Temp=data[data[\"BP_DUMMY\"]==str(LIST[i])].reset_index(drop=True)\n",
    "        LIST2 = Temp['SUGGEST_DATE'].unique()\n",
    "        j = 0\n",
    "        while (j < len(LIST2)):"
   ]
  },
  {
   "cell_type": "code",
   "execution_count": 25,
   "metadata": {},
   "outputs": [
    {
     "name": "stderr",
     "output_type": "stream",
     "text": [
      "  0%|                                                                           | 191/323792 [00:20<9:28:50,  9.48it/s]\n"
     ]
    },
    {
     "ename": "KeyboardInterrupt",
     "evalue": "",
     "output_type": "error",
     "traceback": [
      "\u001b[1;31m---------------------------------------------------------------------------\u001b[0m",
      "\u001b[1;31mKeyboardInterrupt\u001b[0m                         Traceback (most recent call last)",
      "\u001b[1;32m<ipython-input-25-d4e393601008>\u001b[0m in \u001b[0;36m<module>\u001b[1;34m\u001b[0m\n\u001b[0;32m      3\u001b[0m \u001b[1;32mwith\u001b[0m \u001b[0mtqdm\u001b[0m\u001b[1;33m(\u001b[0m\u001b[0mtotal\u001b[0m \u001b[1;33m=\u001b[0m \u001b[0mlen\u001b[0m\u001b[1;33m(\u001b[0m\u001b[0md2\u001b[0m\u001b[1;33m[\u001b[0m\u001b[1;34m'建議書dummy'\u001b[0m\u001b[1;33m]\u001b[0m\u001b[1;33m.\u001b[0m\u001b[0munique\u001b[0m\u001b[1;33m(\u001b[0m\u001b[1;33m)\u001b[0m\u001b[1;33m)\u001b[0m\u001b[1;33m)\u001b[0m \u001b[1;32mas\u001b[0m \u001b[0mpbar\u001b[0m\u001b[1;33m:\u001b[0m\u001b[1;33m\u001b[0m\u001b[1;33m\u001b[0m\u001b[0m\n\u001b[0;32m      4\u001b[0m     \u001b[1;32mfor\u001b[0m \u001b[0mi\u001b[0m \u001b[1;32min\u001b[0m \u001b[0md2\u001b[0m\u001b[1;33m[\u001b[0m\u001b[1;34m'建議書dummy'\u001b[0m\u001b[1;33m]\u001b[0m\u001b[1;33m.\u001b[0m\u001b[0munique\u001b[0m\u001b[1;33m(\u001b[0m\u001b[1;33m)\u001b[0m\u001b[1;33m:\u001b[0m\u001b[1;33m\u001b[0m\u001b[1;33m\u001b[0m\u001b[0m\n\u001b[1;32m----> 5\u001b[1;33m         \u001b[1;32mif\u001b[0m \u001b[0mi\u001b[0m \u001b[1;32mnot\u001b[0m \u001b[1;32min\u001b[0m \u001b[0md1\u001b[0m\u001b[1;33m[\u001b[0m\u001b[1;34m'建議書dummy'\u001b[0m\u001b[1;33m]\u001b[0m\u001b[1;33m.\u001b[0m\u001b[0munique\u001b[0m\u001b[1;33m(\u001b[0m\u001b[1;33m)\u001b[0m\u001b[1;33m:\u001b[0m\u001b[1;33m\u001b[0m\u001b[1;33m\u001b[0m\u001b[0m\n\u001b[0m\u001b[0;32m      6\u001b[0m             \u001b[0mcou\u001b[0m \u001b[1;33m+=\u001b[0m \u001b[1;36m1\u001b[0m\u001b[1;33m\u001b[0m\u001b[1;33m\u001b[0m\u001b[0m\n\u001b[0;32m      7\u001b[0m         \u001b[0mpbar\u001b[0m\u001b[1;33m.\u001b[0m\u001b[0mupdate\u001b[0m\u001b[1;33m(\u001b[0m\u001b[1;33m)\u001b[0m\u001b[1;33m\u001b[0m\u001b[1;33m\u001b[0m\u001b[0m\n",
      "\u001b[1;32mC:\\ProgramData\\Anaconda3\\lib\\site-packages\\pandas\\core\\series.py\u001b[0m in \u001b[0;36munique\u001b[1;34m(self)\u001b[0m\n\u001b[0;32m   1866\u001b[0m         \u001b[0mCategories\u001b[0m \u001b[1;33m(\u001b[0m\u001b[1;36m3\u001b[0m\u001b[1;33m,\u001b[0m \u001b[0mobject\u001b[0m\u001b[1;33m)\u001b[0m\u001b[1;33m:\u001b[0m \u001b[1;33m[\u001b[0m\u001b[1;34m'a'\u001b[0m \u001b[1;33m<\u001b[0m \u001b[1;34m'b'\u001b[0m \u001b[1;33m<\u001b[0m \u001b[1;34m'c'\u001b[0m\u001b[1;33m]\u001b[0m\u001b[1;33m\u001b[0m\u001b[1;33m\u001b[0m\u001b[0m\n\u001b[0;32m   1867\u001b[0m         \"\"\"\n\u001b[1;32m-> 1868\u001b[1;33m         \u001b[0mresult\u001b[0m \u001b[1;33m=\u001b[0m \u001b[0msuper\u001b[0m\u001b[1;33m(\u001b[0m\u001b[1;33m)\u001b[0m\u001b[1;33m.\u001b[0m\u001b[0munique\u001b[0m\u001b[1;33m(\u001b[0m\u001b[1;33m)\u001b[0m\u001b[1;33m\u001b[0m\u001b[1;33m\u001b[0m\u001b[0m\n\u001b[0m\u001b[0;32m   1869\u001b[0m         \u001b[1;32mreturn\u001b[0m \u001b[0mresult\u001b[0m\u001b[1;33m\u001b[0m\u001b[1;33m\u001b[0m\u001b[0m\n\u001b[0;32m   1870\u001b[0m \u001b[1;33m\u001b[0m\u001b[0m\n",
      "\u001b[1;32mC:\\ProgramData\\Anaconda3\\lib\\site-packages\\pandas\\core\\base.py\u001b[0m in \u001b[0;36munique\u001b[1;34m(self)\u001b[0m\n\u001b[0;32m   1263\u001b[0m                     \u001b[0mresult\u001b[0m \u001b[1;33m=\u001b[0m \u001b[0mnp\u001b[0m\u001b[1;33m.\u001b[0m\u001b[0masarray\u001b[0m\u001b[1;33m(\u001b[0m\u001b[0mresult\u001b[0m\u001b[1;33m)\u001b[0m\u001b[1;33m\u001b[0m\u001b[1;33m\u001b[0m\u001b[0m\n\u001b[0;32m   1264\u001b[0m         \u001b[1;32melse\u001b[0m\u001b[1;33m:\u001b[0m\u001b[1;33m\u001b[0m\u001b[1;33m\u001b[0m\u001b[0m\n\u001b[1;32m-> 1265\u001b[1;33m             \u001b[0mresult\u001b[0m \u001b[1;33m=\u001b[0m \u001b[0munique1d\u001b[0m\u001b[1;33m(\u001b[0m\u001b[0mvalues\u001b[0m\u001b[1;33m)\u001b[0m\u001b[1;33m\u001b[0m\u001b[1;33m\u001b[0m\u001b[0m\n\u001b[0m\u001b[0;32m   1266\u001b[0m \u001b[1;33m\u001b[0m\u001b[0m\n\u001b[0;32m   1267\u001b[0m         \u001b[1;32mreturn\u001b[0m \u001b[0mresult\u001b[0m\u001b[1;33m\u001b[0m\u001b[1;33m\u001b[0m\u001b[0m\n",
      "\u001b[1;32mC:\\ProgramData\\Anaconda3\\lib\\site-packages\\pandas\\core\\algorithms.py\u001b[0m in \u001b[0;36munique\u001b[1;34m(values)\u001b[0m\n\u001b[0;32m    387\u001b[0m \u001b[1;33m\u001b[0m\u001b[0m\n\u001b[0;32m    388\u001b[0m     \u001b[0mtable\u001b[0m \u001b[1;33m=\u001b[0m \u001b[0mhtable\u001b[0m\u001b[1;33m(\u001b[0m\u001b[0mlen\u001b[0m\u001b[1;33m(\u001b[0m\u001b[0mvalues\u001b[0m\u001b[1;33m)\u001b[0m\u001b[1;33m)\u001b[0m\u001b[1;33m\u001b[0m\u001b[1;33m\u001b[0m\u001b[0m\n\u001b[1;32m--> 389\u001b[1;33m     \u001b[0muniques\u001b[0m \u001b[1;33m=\u001b[0m \u001b[0mtable\u001b[0m\u001b[1;33m.\u001b[0m\u001b[0munique\u001b[0m\u001b[1;33m(\u001b[0m\u001b[0mvalues\u001b[0m\u001b[1;33m)\u001b[0m\u001b[1;33m\u001b[0m\u001b[1;33m\u001b[0m\u001b[0m\n\u001b[0m\u001b[0;32m    390\u001b[0m     \u001b[0muniques\u001b[0m \u001b[1;33m=\u001b[0m \u001b[0m_reconstruct_data\u001b[0m\u001b[1;33m(\u001b[0m\u001b[0muniques\u001b[0m\u001b[1;33m,\u001b[0m \u001b[0moriginal\u001b[0m\u001b[1;33m.\u001b[0m\u001b[0mdtype\u001b[0m\u001b[1;33m,\u001b[0m \u001b[0moriginal\u001b[0m\u001b[1;33m)\u001b[0m\u001b[1;33m\u001b[0m\u001b[1;33m\u001b[0m\u001b[0m\n\u001b[0;32m    391\u001b[0m     \u001b[1;32mreturn\u001b[0m \u001b[0muniques\u001b[0m\u001b[1;33m\u001b[0m\u001b[1;33m\u001b[0m\u001b[0m\n",
      "\u001b[1;31mKeyboardInterrupt\u001b[0m: "
     ]
    }
   ],
   "source": [
    "# 處理跨越問題，同一BP_DUMMY且同一建議日下 視為同一筆資料\n",
    "# 每一list的位置與Columns 是事先對應好的，部分欄位還需再\n",
    "LIST=data[\"BP_DUMMY\"].unique()\n",
    "i=0; #ccc = 0\n",
    "#AGG=D1[0:0]\n",
    "agg=pd.DataFrame(D)\n",
    "with tqdm(total=len(LIST)-i) as pbar:\n",
    "    while(i<len(LIST)):\n",
    "        Temp=data[data[\"BP_DUMMY\"]==str(LIST[i])].reset_index(drop=True)\n",
    "        LIST2 = Temp['SUGGEST_DATE'].unique()\n",
    "        j = 0\n",
    "        while (j < len(LIST2)):\n",
    "            temp = Temp[Temp['SUGGEST_DATE'] == LIST2[j]].reset_index(drop = True)\n",
    "            Alist = list()\n",
    "            Alist.append(temp[\"MONTH\"][0])\n",
    "            Alist.append(temp[\"AGENT_DUMMY\"][0])\n",
    "            Alist.append(temp[\"SUGGEST_DUMMY\"][0])\n",
    "            Alist.append(sorted(list(temp[\"SUGGEST_DATE\"]))[0])\n",
    "            Alist.append(sorted(list(temp[\"SUGGEST_LAST_DATE\"]))[len(temp[\"SUGGEST_LAST_DATE\"])-1])\n",
    "            #Alist.append((SUGGEST_LAST_DATE - SUGGEST_DATE).days)\n",
    "            try:\n",
    "                Alist.append(temp[\"AGE\"].mean())\n",
    "            except:\n",
    "                Alist.append(0)\n",
    "            Alist.append(temp[\"BP_DUMMY\"][0])\n",
    "            try:\n",
    "                Alist.append(temp[\"AMOUNT\"].sum())\n",
    "            except:\n",
    "                Alist.append(0)\n",
    "            Alist.append(temp[\"CURRENCY\"][0])\n",
    "            try:\n",
    "                Alist.append(temp[\"FEE\"].sum())\n",
    "            except:\n",
    "                Alist.append(0)\n",
    "            Alist.append(temp[\"E_ACCEPT\"][len(temp['E_ACCEPT'])-1])\n",
    "            Alist.append(temp[\"ACCEPT\"][len(temp['ACCEPT'])-1])\n",
    "            Alist.append(0) # 是建議書保單\n",
    "            Alist.append(temp[\"CLUSTER\"][0])\n",
    "            Alist.append((SUGGEST_LAST_DATE - SUGGEST_DATE).days)\n",
    "            Alist.append(temp['FORTUNELV'][0])\n",
    "            Alist.append(temp['LOYALTYLV'][0])\n",
    "            T = dict()\n",
    "            for l in data.columns:\n",
    "                T[l] = []\n",
    "            T['DURATION'] = []\n",
    "            for n,k in enumerate(temp.columns):\n",
    "                if n < 17:\n",
    "                    T[k] = [Alist[n]]\n",
    "                else:\n",
    "                    T[k] = [temp.iloc[-1,n]]\n",
    "            \n",
    "            agg=agg.append(pd.DataFrame(T))\n",
    "            j+=1 \n",
    "        #ccc += len(LIST2)\n",
    "        pbar.update()\n",
    "        i+=1\n",
    "        #print(i,j)\n",
    "    agg"
   ]
  },
  {
   "cell_type": "code",
   "execution_count": null,
   "metadata": {},
   "outputs": [],
   "source": [
    "# 欄位再清理\n",
    "agg = agg.drop(columns = ['ACCEPT_DUMMY'])"
   ]
  },
  {
   "cell_type": "markdown",
   "metadata": {},
   "source": [
    "agg即為處理完的資料為：1. 已經刪除重複的建議書。 2. 處理完業務員跨月修改後，建議書DUMMY會更動的問題。"
   ]
  }
 ],
 "metadata": {
  "kernelspec": {
   "display_name": "Python 3",
   "language": "python",
   "name": "python3"
  },
  "language_info": {
   "codemirror_mode": {
    "name": "ipython",
    "version": 3
   },
   "file_extension": ".py",
   "mimetype": "text/x-python",
   "name": "python",
   "nbconvert_exporter": "python",
   "pygments_lexer": "ipython3",
   "version": "3.8.5"
  }
 },
 "nbformat": 4,
 "nbformat_minor": 4
}
